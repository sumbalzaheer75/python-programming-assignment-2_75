{
 "cells": [
  {
   "cell_type": "code",
   "execution_count": 3,
   "metadata": {},
   "outputs": [
    {
     "name": "stdout",
     "output_type": "stream",
     "text": [
      "enter your maths marks =90\n",
      "enter your english marks =70\n",
      "enter your physics marks =75\n",
      "enter your chemistry marks =72\n",
      "enter your Pakistan studies marks =80\n",
      "A\n"
     ]
    }
   ],
   "source": [
    "math = int(input(\"enter your maths marks =\"))\n",
    "eng = int(input(\"enter your english marks =\"))\n",
    "phy = int(input(\"enter your physics marks =\"))\n",
    "chem = int(input(\"enter your chemistry marks =\"))\n",
    "pst = int(input(\"enter your Pakistan studies marks =\"))\n",
    "total = math + eng + phy + chem + pst\n",
    "per = (total / 500) * 100\n",
    "if per >= 80 and per <= 100 :\n",
    "    print(\"A+\")\n",
    "elif per >= 70 and per <=80 :\n",
    "    print(\"A\")\n",
    "elif per >=60 and per <= 70 :\n",
    "    print(\"B\")\n",
    "elif per >= 0 and per <= 60 :\n",
    "    print(\"Fail\")\n",
    "else :\n",
    "    print(\"you have given inappropriate %\")\n",
    "\n"
   ]
  },
  {
   "cell_type": "code",
   "execution_count": 6,
   "metadata": {},
   "outputs": [
    {
     "name": "stdout",
     "output_type": "stream",
     "text": [
      "enter a number 12\n",
      "number is even\n"
     ]
    }
   ],
   "source": [
    "num = int(input(\"enter a number \"))\n",
    "mod = num % 2\n",
    "if mod > 0 :\n",
    "    print(\"number is odd\")\n",
    "else :\n",
    "    print(\"number is even\")"
   ]
  },
  {
   "cell_type": "code",
   "execution_count": 7,
   "metadata": {},
   "outputs": [
    {
     "name": "stdout",
     "output_type": "stream",
     "text": [
      "the length of the list is \n"
     ]
    },
    {
     "data": {
      "text/plain": [
       "6"
      ]
     },
     "execution_count": 7,
     "metadata": {},
     "output_type": "execute_result"
    }
   ],
   "source": [
    "arr = [\"sumbal\", 21, 75, 15, \"zaheer\", \"sir ali\"]\n",
    "print(\"the length of the list is \")\n",
    "len(arr)"
   ]
  },
  {
   "cell_type": "code",
   "execution_count": 9,
   "metadata": {},
   "outputs": [
    {
     "name": "stdout",
     "output_type": "stream",
     "text": [
      "the sum of the elements =  130\n"
     ]
    }
   ],
   "source": [
    "arr = [75, 15, 3, 20, 17]\n",
    "sum(arr)\n",
    "print(\"the sum of the elements = \", sum(arr))"
   ]
  },
  {
   "cell_type": "code",
   "execution_count": 10,
   "metadata": {},
   "outputs": [
    {
     "name": "stdout",
     "output_type": "stream",
     "text": [
      "largest number in the list =  87\n"
     ]
    }
   ],
   "source": [
    "arr = [75, 23, 56, 87, 43]\n",
    "print(\"largest number in the list = \", max(arr))"
   ]
  },
  {
   "cell_type": "code",
   "execution_count": 16,
   "metadata": {},
   "outputs": [
    {
     "name": "stdout",
     "output_type": "stream",
     "text": [
      "[1, 1, 2, 3]\n"
     ]
    }
   ],
   "source": [
    "a = [1,  1, 2, 3, 5, 8, 13, 21, 34, 55, 89]\n",
    "arr = []\n",
    "for num in a :\n",
    "    if num < 5 :\n",
    "        arr.append(num)\n",
    "print(arr)"
   ]
  },
  {
   "cell_type": "code",
   "execution_count": null,
   "metadata": {},
   "outputs": [],
   "source": []
  }
 ],
 "metadata": {
  "kernelspec": {
   "display_name": "Python 3",
   "language": "python",
   "name": "python3"
  },
  "language_info": {
   "codemirror_mode": {
    "name": "ipython",
    "version": 3
   },
   "file_extension": ".py",
   "mimetype": "text/x-python",
   "name": "python",
   "nbconvert_exporter": "python",
   "pygments_lexer": "ipython3",
   "version": "3.7.4"
  }
 },
 "nbformat": 4,
 "nbformat_minor": 2
}
